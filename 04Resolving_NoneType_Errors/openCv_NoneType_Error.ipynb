{
 "cells": [
  {
   "cell_type": "markdown",
   "metadata": {},
   "source": [
    "Tutorial from: https://www.pyimagesearch.com/2016/12/26/opencv-resolving-nonetype-errors/"
   ]
  },
  {
   "cell_type": "markdown",
   "metadata": {},
   "source": [
    "When using the Python programming language you’ll inevitably run into an error that looks like this:\n",
    "```python\n",
    "AttributeError: 'NoneType' object has no attribute ‘something’\n",
    "```\n",
    "Where ```something```  can be replaced by whatever the name of the actual attribute is.\n",
    "We see these errors when we think we are working with an instance of a particular Class or Object, but in reality we have the Python built-in type ```None```. As the name suggests, ```None```  represents the absence of a value, such as when a function call returns an unexpected result or fails entirely."
   ]
  },
  {
   "cell_type": "markdown",
   "metadata": {},
   "source": [
    "Here is an example of generating a N```oneType```  error from the Python shell:\n",
    "```python\n",
    ">>> foo = None\n",
    ">>> foo.bar = True\n",
    "Traceback (most recent call last):\n",
    "  File \"<stdin>\", line 1, in <module>\n",
    "AttributeError: 'NoneType' object has no attribute 'bar'\n",
    ">>>\n",
    "```"
   ]
  },
  {
   "cell_type": "code",
   "execution_count": 2,
   "metadata": {},
   "outputs": [
    {
     "ename": "AttributeError",
     "evalue": "'NoneType' object has no attribute 'bar'",
     "output_type": "error",
     "traceback": [
      "\u001b[0;31m---------------------------------------------------------------------------\u001b[0m",
      "\u001b[0;31mAttributeError\u001b[0m                            Traceback (most recent call last)",
      "\u001b[0;32m<ipython-input-2-4f0fa21fe432>\u001b[0m in \u001b[0;36m<module>\u001b[0;34m\u001b[0m\n\u001b[1;32m      1\u001b[0m \u001b[0mfoo\u001b[0m \u001b[0;34m=\u001b[0m \u001b[0;32mNone\u001b[0m\u001b[0;34m\u001b[0m\u001b[0;34m\u001b[0m\u001b[0m\n\u001b[0;32m----> 2\u001b[0;31m \u001b[0mfoo\u001b[0m\u001b[0;34m.\u001b[0m\u001b[0mbar\u001b[0m \u001b[0;34m=\u001b[0m \u001b[0;32mTrue\u001b[0m\u001b[0;34m\u001b[0m\u001b[0;34m\u001b[0m\u001b[0m\n\u001b[0m",
      "\u001b[0;31mAttributeError\u001b[0m: 'NoneType' object has no attribute 'bar'"
     ]
    }
   ],
   "source": [
    "foo = None\n",
    "foo.bar = True"
   ]
  },
  {
   "cell_type": "markdown",
   "metadata": {},
   "source": [
    "# Two reasons for 95% of OpenCV NoneType errors\n"
   ]
  },
  {
   "cell_type": "markdown",
   "metadata": {},
   "source": [
    "In my experience, over 95% of the time these `NoneType`  errors can be traced back to either an issue with `cv2.imread`  or ```cv2.VideoCapture```."
   ]
  },
  {
   "cell_type": "markdown",
   "metadata": {},
   "source": [
    "## Case #1: cv2.imread\n"
   ]
  },
  {
   "cell_type": "markdown",
   "metadata": {},
   "source": [
    "If you are receiving a `NoneType`  error and your code is calling `cv2.imread` , then the likely cause of the error is an invalid file path supplied to `cv2.imread`.\n",
    "\n",
    "The `cv2.imread`  function does not explicitly throw an error message if you give it an invalid file path (i.e., a path to a nonexistent file). Instead, `cv2.imread`  will simply return None .\n",
    "\n",
    "Anytime you try to access an attribute of a `None`  image loaded from disk via `cv2.imread`  you’ll get a `NoneType`  error.\n",
    "\n",
    "Here is an example of trying to load a nonexistent image from disk:"
   ]
  },
  {
   "cell_type": "code",
   "execution_count": 3,
   "metadata": {},
   "outputs": [
    {
     "ename": "AttributeError",
     "evalue": "'NoneType' object has no attribute 'shape'",
     "output_type": "error",
     "traceback": [
      "\u001b[0;31m---------------------------------------------------------------------------\u001b[0m",
      "\u001b[0;31mAttributeError\u001b[0m                            Traceback (most recent call last)",
      "\u001b[0;32m<ipython-input-3-3a7e7037d840>\u001b[0m in \u001b[0;36m<module>\u001b[0;34m\u001b[0m\n\u001b[1;32m      2\u001b[0m \u001b[0mpath\u001b[0m \u001b[0;34m=\u001b[0m \u001b[0;34m\"path/to/an/image/that/does/not/exist.png\"\u001b[0m\u001b[0;34m\u001b[0m\u001b[0;34m\u001b[0m\u001b[0m\n\u001b[1;32m      3\u001b[0m \u001b[0mimage\u001b[0m \u001b[0;34m=\u001b[0m \u001b[0mcv2\u001b[0m\u001b[0;34m.\u001b[0m\u001b[0mimread\u001b[0m\u001b[0;34m(\u001b[0m\u001b[0mpath\u001b[0m\u001b[0;34m)\u001b[0m\u001b[0;34m\u001b[0m\u001b[0;34m\u001b[0m\u001b[0m\n\u001b[0;32m----> 4\u001b[0;31m \u001b[0mprint\u001b[0m\u001b[0;34m(\u001b[0m\u001b[0mimage\u001b[0m\u001b[0;34m.\u001b[0m\u001b[0mshape\u001b[0m\u001b[0;34m)\u001b[0m\u001b[0;34m\u001b[0m\u001b[0;34m\u001b[0m\u001b[0m\n\u001b[0m",
      "\u001b[0;31mAttributeError\u001b[0m: 'NoneType' object has no attribute 'shape'"
     ]
    }
   ],
   "source": [
    "import cv2\n",
    "path = \"path/to/an/image/that/does/not/exist.png\"\n",
    "image = cv2.imread(path)\n",
    "print(image.shape)"
   ]
  },
  {
   "cell_type": "markdown",
   "metadata": {},
   "source": [
    "As an added bonus, I’ll also mention the `AssertionFailed`  exception.\n",
    "\n",
    "If you try to pass an invalid image (i.e., `NoneType`  image) into another OpenCV function, Python + OpenCV will complain that the image doesn’t have any width, height, or depth information — and how could it, the “image” is a None  object after all!\n",
    "\n",
    "Here is an example of an error message you might see when loading a nonexistent image from disk and followed by immediately calling an OpenCV function on it:"
   ]
  },
  {
   "cell_type": "code",
   "execution_count": 4,
   "metadata": {},
   "outputs": [
    {
     "ename": "error",
     "evalue": "OpenCV(4.0.0) /home/ai/opencv/modules/imgproc/src/color.cpp:181: error: (-215:Assertion failed) !_src.empty() in function 'cvtColor'\n",
     "output_type": "error",
     "traceback": [
      "\u001b[0;31m---------------------------------------------------------------------------\u001b[0m",
      "\u001b[0;31merror\u001b[0m                                     Traceback (most recent call last)",
      "\u001b[0;32m<ipython-input-4-77dfee8ac0f0>\u001b[0m in \u001b[0;36m<module>\u001b[0;34m\u001b[0m\n\u001b[1;32m      2\u001b[0m \u001b[0mpath\u001b[0m \u001b[0;34m=\u001b[0m \u001b[0;34m\"path/to/an/image/that/does/not/exist.png\"\u001b[0m\u001b[0;34m\u001b[0m\u001b[0;34m\u001b[0m\u001b[0m\n\u001b[1;32m      3\u001b[0m \u001b[0mimage\u001b[0m \u001b[0;34m=\u001b[0m \u001b[0mcv2\u001b[0m\u001b[0;34m.\u001b[0m\u001b[0mimread\u001b[0m\u001b[0;34m(\u001b[0m\u001b[0mpath\u001b[0m\u001b[0;34m)\u001b[0m\u001b[0;34m\u001b[0m\u001b[0;34m\u001b[0m\u001b[0m\n\u001b[0;32m----> 4\u001b[0;31m \u001b[0mgray\u001b[0m \u001b[0;34m=\u001b[0m \u001b[0mcv2\u001b[0m\u001b[0;34m.\u001b[0m\u001b[0mcvtColor\u001b[0m\u001b[0;34m(\u001b[0m\u001b[0mimage\u001b[0m\u001b[0;34m,\u001b[0m\u001b[0mcv2\u001b[0m\u001b[0;34m.\u001b[0m\u001b[0mCOLOR_BGR2GRAY\u001b[0m\u001b[0;34m)\u001b[0m\u001b[0;34m\u001b[0m\u001b[0;34m\u001b[0m\u001b[0m\n\u001b[0m",
      "\u001b[0;31merror\u001b[0m: OpenCV(4.0.0) /home/ai/opencv/modules/imgproc/src/color.cpp:181: error: (-215:Assertion failed) !_src.empty() in function 'cvtColor'\n"
     ]
    }
   ],
   "source": [
    "import cv2\n",
    "path = \"path/to/an/image/that/does/not/exist.png\"\n",
    "image = cv2.imread(path)\n",
    "gray = cv2.cvtColor(image,cv2.COLOR_BGR2GRAY)"
   ]
  },
  {
   "cell_type": "markdown",
   "metadata": {},
   "source": [
    "These types of errors can be harder to debug since there are many reasons why an `AssertionError`  could be thrown. But in most cases, your first step should be be ensuring that your image was correctly loaded from disk."
   ]
  },
  {
   "cell_type": "markdown",
   "metadata": {},
   "source": [
    "A final, more rare problem you may encounter with cv2.imread  is that your image does exist on disk, but you didn’t compile OpenCV with the given image I/O libraries installed.\n",
    "\n",
    "For example, let’s say you have a `.JPEG` file on disk and you knew you had the correct path to it.\n",
    "\n",
    "You then try to load the JPEG file via `cv2.imread`  and notice a `NoneType`  or `AssertionError` .\n",
    "\n",
    "How can this be?\n",
    "\n",
    "The file exists!\n",
    "\n",
    "In this case, you likely forgot to compile OpenCV with JPEG file support enabled.\n",
    "\n",
    "In Debian/Ubuntu systems, this is caused by a lack of `libjpeg`  being installed."
   ]
  },
  {
   "cell_type": "markdown",
   "metadata": {},
   "source": [
    "To resolve this problem, regardless of operating system, you’ll need to re-compile and re-install OpenCV."
   ]
  },
  {
   "cell_type": "markdown",
   "metadata": {},
   "source": [
    "## Case #2: cv2.VideoCapture and .read\n"
   ]
  },
  {
   "cell_type": "markdown",
   "metadata": {},
   "source": [
    "To access a video stream, OpenCV uses the cv2.VideoCapture  which accepts a single argument, either:\n",
    "1. A **string** representing the path to a video file on disk.\n",
    "1. An **integer** representing the index of a webcam on your computer.\n",
    "\n",
    "Working with video streams and video files with OpenCV is more complex than simply loading an image via `cv2.imread` , but the same rules apply.\n",
    "\n",
    "If you try to call the .read  method of an instantiated `cv2.VideoCapture`  (regardless if it’s a video file or webcam stream) and notice a `NoneType`  error or `AssertionError` , then you likely have a problem with either:\n",
    "1. The path to your input video file (it’s probably incorrect).\n",
    "1. Not having the proper video codecs installed, in which case you’ll need to install the codecs, followed by re-compiling and re-installing OpenCV\n",
    "1. Your webcam not being accessible via OpenCV. This could be for any number of reasons, including missing drivers, an incorrect index passed to cv2.VideoCapture , or simply your webcam is not properly attached to your system."
   ]
  },
  {
   "cell_type": "code",
   "execution_count": null,
   "metadata": {},
   "outputs": [],
   "source": []
  }
 ],
 "metadata": {
  "kernelspec": {
   "display_name": "Python 3.6.9 64-bit ('cv': virtualenv)",
   "language": "python",
   "name": "python36964bitcvvirtualenv8c1f35646f8e40a4ba536162570f5824"
  },
  "language_info": {
   "codemirror_mode": {
    "name": "ipython",
    "version": 3
   },
   "file_extension": ".py",
   "mimetype": "text/x-python",
   "name": "python",
   "nbconvert_exporter": "python",
   "pygments_lexer": "ipython3",
   "version": "3.6.9"
  }
 },
 "nbformat": 4,
 "nbformat_minor": 4
}
